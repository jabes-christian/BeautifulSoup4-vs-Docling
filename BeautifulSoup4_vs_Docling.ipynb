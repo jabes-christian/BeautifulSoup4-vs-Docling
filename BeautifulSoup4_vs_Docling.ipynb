{
  "nbformat": 4,
  "nbformat_minor": 0,
  "metadata": {
    "colab": {
      "provenance": [],
      "authorship_tag": "ABX9TyPvOyHlUiY7K5ijfylmxbfU",
      "include_colab_link": true
    },
    "kernelspec": {
      "name": "python3",
      "display_name": "Python 3"
    },
    "language_info": {
      "name": "python"
    }
  },
  "cells": [
    {
      "cell_type": "markdown",
      "metadata": {
        "id": "view-in-github",
        "colab_type": "text"
      },
      "source": [
        "<a href=\"https://colab.research.google.com/github/jabes-christian/BeautifulSoup4-vs-Docling/blob/main/BeautifulSoup4_vs_Docling.ipynb\" target=\"_parent\"><img src=\"https://colab.research.google.com/assets/colab-badge.svg\" alt=\"Open In Colab\"/></a>"
      ]
    },
    {
      "cell_type": "markdown",
      "source": [
        "**Beautiful Soup** é uma biblioteca Python para extrair dados de arquivos HTML e XML. Ela funciona com seu analisador sintático favorito para fornecer maneiras idiomáticas de navegar, pesquisar e modificar a árvore de análise sintática. Ela geralmente economiza horas ou dias de trabalho dos programadores."
      ],
      "metadata": {
        "id": "tjwxx6hgnZ39"
      }
    },
    {
      "cell_type": "markdown",
      "source": [
        "## Trabalhando com Documentos **HTML - BeautifulSoup4**"
      ],
      "metadata": {
        "id": "Solc1pPk8ceT"
      }
    },
    {
      "cell_type": "code",
      "execution_count": 2,
      "metadata": {
        "id": "fmfhLg0Z8Ipr"
      },
      "outputs": [],
      "source": [
        "from bs4 import BeautifulSoup\n",
        "import requests"
      ]
    },
    {
      "cell_type": "code",
      "source": [
        "source = \"https://canaltech.com.br/mercado/google-paga-samsung-para-colocar-gemini-em-celulares-da-empresa/\""
      ],
      "metadata": {
        "id": "kMWz99ec9VBy"
      },
      "execution_count": 3,
      "outputs": []
    },
    {
      "cell_type": "code",
      "source": [
        "response = requests.get(source)"
      ],
      "metadata": {
        "id": "S3k4mCEp_IVg"
      },
      "execution_count": 10,
      "outputs": []
    },
    {
      "cell_type": "markdown",
      "source": [
        "### Passando **HTML** para **Texto**"
      ],
      "metadata": {
        "id": "pDHZXzqxnpJt"
      }
    },
    {
      "cell_type": "code",
      "source": [
        "soup = BeautifulSoup(response.content, 'html.parser')"
      ],
      "metadata": {
        "id": "WHYggt8w_ZX2"
      },
      "execution_count": 11,
      "outputs": []
    },
    {
      "cell_type": "code",
      "source": [
        "print(soup.get_text())"
      ],
      "metadata": {
        "colab": {
          "base_uri": "https://localhost:8080/"
        },
        "id": "k34vl_wAXAY8",
        "outputId": "4be58e0f-86df-4c1a-8791-f2111c29ae4b"
      },
      "execution_count": 12,
      "outputs": [
        {
          "output_type": "stream",
          "name": "stdout",
          "text": [
            "Google paga Samsung para colocar Gemini em celulares da empresa - CanaltechCanaltech - Notícias de Tecnologia, Ciência e Entretenimento\n",
            "Notícias\n",
            "\n",
            "Vídeos\n",
            "\n",
            "Podcasts\n",
            "\n",
            "Produtos\n",
            "\n",
            "Mais Canaltech\n",
            "\n",
            "Canaltech Ofertas\n",
            "\n",
            "Prêmio Canaltech\n",
            "\n",
            "Busca\n",
            "Notícias Últimas NotíciasAnálisesAppsCarrosCiênciaColunasCTUP - Hardware e GamesCT Eletro - EletrodomésticosEntretenimentoEspaçoGamesQuadrinhosSmartphoneTutoriaisVÍDEOSÚltimos VídeosPlaylists de VídeoYT CanaltechYT Maravilhas da TecnologiaPODCASTS Últimos PodcastsEscutar Podcast CanaltechEscutar Porta 101PRODUTOSTudo sobre ProdutosAppleReviewsSamsungHuaweiXiaomiLGMotorolaRealmeLenovoSonyOPPOMAIS CANALTECH Sobre o CanaltechPolítica de PrivacidadePrograma de IntegridadeSegurança & PrivacidadeAnuncieTeste de VelocidadeFacebookInstagramTwitterLinkedInRSS FeedCANALTECH OFERTASCanaltech OfertasCategorias de OfertasCupom de DescontoGrupos de OfertaApp CT Ofertas AndroidApp CT Ofertas iOSPublicidadeHomeNotíciasMercadoGoogle paga Samsung para colocar Gemini em celulares da empresaPor Emanuele Almeida | 22/04/2025 às 09:49Compartilhe: Marcelo Salvatico/CanaltechO Google paga mensalmente uma quantia exorbitante para que a Samsung pré-instale o aplicativo do Gemini em dispositivos da empresa, como celulares Galaxy. A informação foi dada pela Bloomberg e provém de depoimentos dados no julgamento antitruste contra a Alphabet, empresa controladora do Google, que teve início na segunda-feira (21).Julgamento do Google que pode custar o Chrome começa nesta segunda (21)Google perde processo sobre monopólio de anúncios nos EUA; entenda o casoSegundo o depoimento dado pelo vice-presidente de plataformas e parcerias de dispositivos do Google, Peter Fitzgerald, a Big Tech começou a pagar a Samsung pela pré-instalação do Gemini em janeiro a partir de um contrato de dois anos que prevê pagamentos mensais fixos para cada dispositivo que fizer a instalação prévia do assistente de IA. Fitzgerald não revelou um valor exato, mas disse que uma porcentagem da receita que o Google garante a partir dos anúncios no aplicativo é usada para realizar os pagamentos à empresa sul-coreana. O Canaltech está no WhatsApp!Entre no canal e acompanhe notícias e dicas de tecnologia WhatsAppContinua após a publicidadeEsse tipo de pagamento é considerado ilegal pela justiça americana e pode ser mais um argumento na ação feita pelo Departamento de Justiça dos EUA (DOJ) contra a Big Tech. O julgamento ocorre por conta da acusação de práticas de monopólio do Google no setor de buscas online. O Canaltech entrou em contato com o Google para mais esclarecimentos, mas ainda não obteve resposta. Google também pagou Samsung para destacar o buscadorNão é a primeira vez que o Google faz pagamentos para se tornar padrão em aparelhos da Samsung. Em 2024, a Big Tech foi acusada de violação da lei antitruste por pagar aportes à empresa sul-coreana e outras organizações, como Apple, para que tornar o mecanismo de busca padrão em seus dispositivos. A acusação foi aceita pelo juiz Amit Mehta, o mesmo que julga o caso atual do Google. Google pode ter que vender o ChromeO processo das consequências aplicadas à Gigante de Mountain View ainda está em fase de julgamento. Em sua acusação, o DOJ pede que o Google tome medidas para diminuir seu monopólio no setor e uma dessas saídas pode ser a venda do buscador Chrome. Continua após a publicidadeContudo, o juiz responsável pelo caso ainda vai ouvir todos os depoimentos para decidir quais mudanças o Google precisará realizar para solucionar o comportamento ilegal no mercado de tecnologia. Leia mais:Como se proteger contra golpes nos anúncios do GoogleComo funciona o Google TradutorComo fazer uma pesquisa no Google AcadêmicoVÍDEO: O algoritmo do seu YouTube, Instagram e Threads está ruim nas recomendações?Continua após a publicidade\n"
          ]
        }
      ]
    },
    {
      "cell_type": "markdown",
      "source": [
        "**Docling** simplifica o processamento de documentos, analisando diversos formatos — incluindo compreensão avançada de PDF — e fornecendo integrações perfeitas com o ecossistema de IA de geração.\n",
        "\n",
        "**Características:**\n",
        "\n",
        "* Análise de **vários formatos de documentos**, incluindo PDF, DOCX, XLSX, HTML, imagens e muito mais\n",
        "* Compreensão avançada de PDF, incluindo layout de página, ordem de leitura, estrutura de tabela, código, fórmulas, classificação de imagem e muito mais\n",
        "* Formato de representação **DoclingDocument** unificado e expressivo\n",
        "* Vários **formatos** e opções de exportação, incluindo Markdown, HTML e JSON sem perdas\n",
        "* Capacidades de execução local para dados sensíveis e ambientes com isolamento de ar\n",
        "* **Integrações** plug-and-play, incluindo LangChain, LlamaIndex, Crew AI e Haystack para IA de agente\n",
        "* Amplo suporte OCR para PDFs e imagens digitalizados\n",
        "* Suporte a Modelos de Linguagem Visual (**SmolDocling**)\n",
        "* CLI simples e conveniente"
      ],
      "metadata": {
        "id": "TVkSB9Lvqv42"
      }
    },
    {
      "cell_type": "markdown",
      "source": [
        "## Trabalhando com Documentos HTML com **Docling**"
      ],
      "metadata": {
        "id": "ksCXJttbYdy7"
      }
    },
    {
      "cell_type": "code",
      "source": [
        "!pip install docling -q"
      ],
      "metadata": {
        "id": "jR9apl-AYqO0"
      },
      "execution_count": 13,
      "outputs": []
    },
    {
      "cell_type": "code",
      "source": [
        "from docling.document_converter import DocumentConverter"
      ],
      "metadata": {
        "id": "DtSV2f8SYgsc"
      },
      "execution_count": 14,
      "outputs": []
    },
    {
      "cell_type": "markdown",
      "source": [
        "### Covertendo HTML em Markdown com **Docling**"
      ],
      "metadata": {
        "id": "HdTXIRDTbu2p"
      }
    },
    {
      "cell_type": "code",
      "source": [
        "converter = DocumentConverter()\n",
        "result = converter.convert(source)"
      ],
      "metadata": {
        "id": "C5-ezAFhbQCg"
      },
      "execution_count": 15,
      "outputs": []
    },
    {
      "cell_type": "code",
      "source": [
        "print(result.document.export_to_markdown())"
      ],
      "metadata": {
        "colab": {
          "base_uri": "https://localhost:8080/"
        },
        "id": "K-TeeWn3bb3h",
        "outputId": "f70510d1-528a-431f-d419-b166cc93357a"
      },
      "execution_count": 16,
      "outputs": [
        {
          "output_type": "stream",
          "name": "stdout",
          "text": [
            "# Google paga Samsung para colocar Gemini em celulares da empresa\n",
            "\n",
            "Por Emanuele Almeida | 22/04/2025 às 09:49\n",
            "\n",
            "Marcelo Salvatico/Canaltech\n",
            "\n",
            "<!-- image -->\n",
            "\n",
            "O Google paga mensalmente uma quantia exorbitante para que a Samsung pré-instale o aplicativo do Gemini em dispositivos da empresa, como celulares Galaxy. A informação foi dada pela Bloomberg e provém de depoimentos dados no julgamento antitruste contra a Alphabet, empresa controladora do Google, que teve início na segunda-feira (21).\n",
            "\n",
            "- Julgamento do Google que pode custar o Chrome começa nesta segunda (21)\n",
            "- Google perde processo sobre monopólio de anúncios nos EUA; entenda o caso\n",
            "\n",
            "Segundo o depoimento dado pelo vice-presidente de plataformas e parcerias de dispositivos do Google, Peter Fitzgerald, a Big Tech começou a pagar a Samsung pela pré-instalação do Gemini em janeiro a partir de um contrato de dois anos que prevê pagamentos mensais fixos para cada dispositivo que fizer a instalação prévia do assistente de IA.\n",
            "\n",
            "Fitzgerald não revelou um valor exato, mas disse que uma porcentagem da receita que o Google garante a partir dos anúncios no aplicativo é usada para realizar os pagamentos à empresa sul-coreana.\n",
            "\n",
            "<!-- image -->\n",
            "\n",
            "Esse tipo de pagamento é considerado ilegal pela justiça americana e pode ser mais um argumento na ação feita pelo Departamento de Justiça dos EUA (DOJ) contra a Big Tech. O julgamento ocorre por conta da acusação de práticas de monopólio do Google no setor de buscas online.\n",
            "\n",
            "O Canaltech entrou em contato com o Google para mais esclarecimentos, mas ainda não obteve resposta.\n",
            "\n",
            "<!-- image -->\n",
            "\n",
            "## Google também pagou Samsung para destacar o buscador\n",
            "\n",
            "Não é a primeira vez que o Google faz pagamentos para se tornar padrão em aparelhos da Samsung. Em 2024, a Big Tech foi acusada de violação da lei antitruste por pagar aportes à empresa sul-coreana e outras organizações, como Apple, para que tornar o mecanismo de busca padrão em seus dispositivos.\n",
            "\n",
            "A acusação foi aceita pelo juiz Amit Mehta, o mesmo que julga o caso atual do Google.\n",
            "\n",
            "## Google pode ter que vender o Chrome\n",
            "\n",
            "O processo das consequências aplicadas à Gigante de Mountain View ainda está em fase de julgamento. Em sua acusação, o DOJ pede que o Google tome medidas para diminuir seu monopólio no setor e uma dessas saídas pode ser a venda do buscador Chrome.\n",
            "\n",
            "Contudo, o juiz responsável pelo caso ainda vai ouvir todos os depoimentos para decidir quais mudanças o Google precisará realizar para solucionar o comportamento ilegal no mercado de tecnologia.\n",
            "\n",
            "Leia mais:\n",
            "\n",
            "- Como se proteger contra golpes nos anúncios do Google\n",
            "- Como funciona o Google Tradutor\n",
            "- Como fazer uma pesquisa no Google Acadêmico\n",
            "\n",
            "VÍDEO: O algoritmo do seu YouTube, Instagram e Threads está ruim nas recomendações?\n"
          ]
        }
      ]
    }
  ]
}